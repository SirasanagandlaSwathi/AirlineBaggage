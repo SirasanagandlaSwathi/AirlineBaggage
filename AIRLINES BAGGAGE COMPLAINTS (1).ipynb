{
 "cells": [
  {
   "cell_type": "markdown",
   "id": "4162f6ce",
   "metadata": {},
   "source": [
    "# Importing libraries"
   ]
  },
  {
   "cell_type": "code",
   "execution_count": 1,
   "id": "5352da25",
   "metadata": {},
   "outputs": [],
   "source": [
    "import numpy as np\n",
    "import pandas as pd\n",
    "import sklearn as sk\n",
    "import matplotlib.pyplot as plt"
   ]
  },
  {
   "cell_type": "markdown",
   "id": "244eeaef",
   "metadata": {},
   "source": [
    "# Loading Datasets"
   ]
  },
  {
   "cell_type": "code",
   "execution_count": 2,
   "id": "e267a820",
   "metadata": {},
   "outputs": [],
   "source": [
    "df=pd.read_csv(r\"C:\\Users\\User\\OneDrive\\Desktop\\Airline\\archive\\baggagecomplaints.csv\")"
   ]
  },
  {
   "cell_type": "code",
   "execution_count": 3,
   "id": "334501a9",
   "metadata": {},
   "outputs": [
    {
     "data": {
      "text/html": [
       "<div>\n",
       "<style scoped>\n",
       "    .dataframe tbody tr th:only-of-type {\n",
       "        vertical-align: middle;\n",
       "    }\n",
       "\n",
       "    .dataframe tbody tr th {\n",
       "        vertical-align: top;\n",
       "    }\n",
       "\n",
       "    .dataframe thead th {\n",
       "        text-align: right;\n",
       "    }\n",
       "</style>\n",
       "<table border=\"1\" class=\"dataframe\">\n",
       "  <thead>\n",
       "    <tr style=\"text-align: right;\">\n",
       "      <th></th>\n",
       "      <th>Airline</th>\n",
       "      <th>Date</th>\n",
       "      <th>Month</th>\n",
       "      <th>Year</th>\n",
       "      <th>Baggage</th>\n",
       "      <th>Scheduled</th>\n",
       "      <th>Cancelled</th>\n",
       "      <th>Enplaned</th>\n",
       "    </tr>\n",
       "  </thead>\n",
       "  <tbody>\n",
       "    <tr>\n",
       "      <th>0</th>\n",
       "      <td>American Eagle</td>\n",
       "      <td>01/2004</td>\n",
       "      <td>1</td>\n",
       "      <td>2004</td>\n",
       "      <td>12502</td>\n",
       "      <td>38276</td>\n",
       "      <td>2481</td>\n",
       "      <td>992360</td>\n",
       "    </tr>\n",
       "    <tr>\n",
       "      <th>1</th>\n",
       "      <td>American Eagle</td>\n",
       "      <td>02/2004</td>\n",
       "      <td>2</td>\n",
       "      <td>2004</td>\n",
       "      <td>8977</td>\n",
       "      <td>35762</td>\n",
       "      <td>886</td>\n",
       "      <td>1060618</td>\n",
       "    </tr>\n",
       "    <tr>\n",
       "      <th>2</th>\n",
       "      <td>American Eagle</td>\n",
       "      <td>03/2004</td>\n",
       "      <td>3</td>\n",
       "      <td>2004</td>\n",
       "      <td>10289</td>\n",
       "      <td>39445</td>\n",
       "      <td>1346</td>\n",
       "      <td>1227469</td>\n",
       "    </tr>\n",
       "    <tr>\n",
       "      <th>3</th>\n",
       "      <td>American Eagle</td>\n",
       "      <td>04/2004</td>\n",
       "      <td>4</td>\n",
       "      <td>2004</td>\n",
       "      <td>8095</td>\n",
       "      <td>38982</td>\n",
       "      <td>755</td>\n",
       "      <td>1234451</td>\n",
       "    </tr>\n",
       "    <tr>\n",
       "      <th>4</th>\n",
       "      <td>American Eagle</td>\n",
       "      <td>05/2004</td>\n",
       "      <td>5</td>\n",
       "      <td>2004</td>\n",
       "      <td>10618</td>\n",
       "      <td>40422</td>\n",
       "      <td>2206</td>\n",
       "      <td>1267581</td>\n",
       "    </tr>\n",
       "    <tr>\n",
       "      <th>...</th>\n",
       "      <td>...</td>\n",
       "      <td>...</td>\n",
       "      <td>...</td>\n",
       "      <td>...</td>\n",
       "      <td>...</td>\n",
       "      <td>...</td>\n",
       "      <td>...</td>\n",
       "      <td>...</td>\n",
       "    </tr>\n",
       "    <tr>\n",
       "      <th>247</th>\n",
       "      <td>United</td>\n",
       "      <td>08/2010</td>\n",
       "      <td>8</td>\n",
       "      <td>2010</td>\n",
       "      <td>14099</td>\n",
       "      <td>30637</td>\n",
       "      <td>344</td>\n",
       "      <td>4263211</td>\n",
       "    </tr>\n",
       "    <tr>\n",
       "      <th>248</th>\n",
       "      <td>United</td>\n",
       "      <td>09/2010</td>\n",
       "      <td>9</td>\n",
       "      <td>2010</td>\n",
       "      <td>9435</td>\n",
       "      <td>28072</td>\n",
       "      <td>161</td>\n",
       "      <td>3679517</td>\n",
       "    </tr>\n",
       "    <tr>\n",
       "      <th>249</th>\n",
       "      <td>United</td>\n",
       "      <td>10/2010</td>\n",
       "      <td>10</td>\n",
       "      <td>2010</td>\n",
       "      <td>9565</td>\n",
       "      <td>29144</td>\n",
       "      <td>140</td>\n",
       "      <td>3952549</td>\n",
       "    </tr>\n",
       "    <tr>\n",
       "      <th>250</th>\n",
       "      <td>United</td>\n",
       "      <td>11/2010</td>\n",
       "      <td>11</td>\n",
       "      <td>2010</td>\n",
       "      <td>8597</td>\n",
       "      <td>27318</td>\n",
       "      <td>104</td>\n",
       "      <td>3573268</td>\n",
       "    </tr>\n",
       "    <tr>\n",
       "      <th>251</th>\n",
       "      <td>United</td>\n",
       "      <td>12/2010</td>\n",
       "      <td>12</td>\n",
       "      <td>2010</td>\n",
       "      <td>14415</td>\n",
       "      <td>27619</td>\n",
       "      <td>599</td>\n",
       "      <td>3493643</td>\n",
       "    </tr>\n",
       "  </tbody>\n",
       "</table>\n",
       "<p>252 rows × 8 columns</p>\n",
       "</div>"
      ],
      "text/plain": [
       "            Airline     Date  Month  Year  Baggage  Scheduled  Cancelled  \\\n",
       "0    American Eagle  01/2004      1  2004    12502      38276       2481   \n",
       "1    American Eagle  02/2004      2  2004     8977      35762        886   \n",
       "2    American Eagle  03/2004      3  2004    10289      39445       1346   \n",
       "3    American Eagle  04/2004      4  2004     8095      38982        755   \n",
       "4    American Eagle  05/2004      5  2004    10618      40422       2206   \n",
       "..              ...      ...    ...   ...      ...        ...        ...   \n",
       "247          United  08/2010      8  2010    14099      30637        344   \n",
       "248          United  09/2010      9  2010     9435      28072        161   \n",
       "249          United  10/2010     10  2010     9565      29144        140   \n",
       "250          United  11/2010     11  2010     8597      27318        104   \n",
       "251          United  12/2010     12  2010    14415      27619        599   \n",
       "\n",
       "     Enplaned  \n",
       "0      992360  \n",
       "1     1060618  \n",
       "2     1227469  \n",
       "3     1234451  \n",
       "4     1267581  \n",
       "..        ...  \n",
       "247   4263211  \n",
       "248   3679517  \n",
       "249   3952549  \n",
       "250   3573268  \n",
       "251   3493643  \n",
       "\n",
       "[252 rows x 8 columns]"
      ]
     },
     "execution_count": 3,
     "metadata": {},
     "output_type": "execute_result"
    }
   ],
   "source": [
    "df"
   ]
  },
  {
   "cell_type": "code",
   "execution_count": 4,
   "id": "c1755adc",
   "metadata": {},
   "outputs": [
    {
     "data": {
      "text/plain": [
       "(252, 8)"
      ]
     },
     "execution_count": 4,
     "metadata": {},
     "output_type": "execute_result"
    }
   ],
   "source": [
    "df.shape"
   ]
  },
  {
   "cell_type": "code",
   "execution_count": 5,
   "id": "2ac3e62f",
   "metadata": {},
   "outputs": [
    {
     "data": {
      "text/plain": [
       "Index(['Airline', 'Date', 'Month', 'Year', 'Baggage', 'Scheduled', 'Cancelled',\n",
       "       'Enplaned'],\n",
       "      dtype='object')"
      ]
     },
     "execution_count": 5,
     "metadata": {},
     "output_type": "execute_result"
    }
   ],
   "source": [
    "df.columns"
   ]
  },
  {
   "cell_type": "code",
   "execution_count": 6,
   "id": "a3969371",
   "metadata": {},
   "outputs": [
    {
     "data": {
      "text/plain": [
       "American Eagle    84\n",
       "Hawaiian          84\n",
       "United            84\n",
       "Name: Airline, dtype: int64"
      ]
     },
     "execution_count": 6,
     "metadata": {},
     "output_type": "execute_result"
    }
   ],
   "source": [
    "df.Airline.value_counts()"
   ]
  },
  {
   "cell_type": "markdown",
   "id": "8b8c0d7c",
   "metadata": {},
   "source": [
    "# Handling missing values"
   ]
  },
  {
   "cell_type": "code",
   "execution_count": 7,
   "id": "a18c0a5b",
   "metadata": {},
   "outputs": [
    {
     "data": {
      "text/plain": [
       "Airline      0\n",
       "Date         0\n",
       "Month        0\n",
       "Year         0\n",
       "Baggage      0\n",
       "Scheduled    0\n",
       "Cancelled    0\n",
       "Enplaned     0\n",
       "dtype: int64"
      ]
     },
     "execution_count": 7,
     "metadata": {},
     "output_type": "execute_result"
    }
   ],
   "source": [
    "df.isnull().sum()"
   ]
  },
  {
   "cell_type": "markdown",
   "id": "4d9ff681",
   "metadata": {},
   "source": [
    "# Handling Duplicates"
   ]
  },
  {
   "cell_type": "code",
   "execution_count": 8,
   "id": "1d76c48f",
   "metadata": {},
   "outputs": [
    {
     "data": {
      "text/html": [
       "<div>\n",
       "<style scoped>\n",
       "    .dataframe tbody tr th:only-of-type {\n",
       "        vertical-align: middle;\n",
       "    }\n",
       "\n",
       "    .dataframe tbody tr th {\n",
       "        vertical-align: top;\n",
       "    }\n",
       "\n",
       "    .dataframe thead th {\n",
       "        text-align: right;\n",
       "    }\n",
       "</style>\n",
       "<table border=\"1\" class=\"dataframe\">\n",
       "  <thead>\n",
       "    <tr style=\"text-align: right;\">\n",
       "      <th></th>\n",
       "      <th>Airline</th>\n",
       "      <th>Date</th>\n",
       "      <th>Month</th>\n",
       "      <th>Year</th>\n",
       "      <th>Baggage</th>\n",
       "      <th>Scheduled</th>\n",
       "      <th>Cancelled</th>\n",
       "      <th>Enplaned</th>\n",
       "    </tr>\n",
       "  </thead>\n",
       "  <tbody>\n",
       "    <tr>\n",
       "      <th>0</th>\n",
       "      <td>American Eagle</td>\n",
       "      <td>01/2004</td>\n",
       "      <td>1</td>\n",
       "      <td>2004</td>\n",
       "      <td>12502</td>\n",
       "      <td>38276</td>\n",
       "      <td>2481</td>\n",
       "      <td>992360</td>\n",
       "    </tr>\n",
       "    <tr>\n",
       "      <th>1</th>\n",
       "      <td>American Eagle</td>\n",
       "      <td>02/2004</td>\n",
       "      <td>2</td>\n",
       "      <td>2004</td>\n",
       "      <td>8977</td>\n",
       "      <td>35762</td>\n",
       "      <td>886</td>\n",
       "      <td>1060618</td>\n",
       "    </tr>\n",
       "    <tr>\n",
       "      <th>2</th>\n",
       "      <td>American Eagle</td>\n",
       "      <td>03/2004</td>\n",
       "      <td>3</td>\n",
       "      <td>2004</td>\n",
       "      <td>10289</td>\n",
       "      <td>39445</td>\n",
       "      <td>1346</td>\n",
       "      <td>1227469</td>\n",
       "    </tr>\n",
       "    <tr>\n",
       "      <th>3</th>\n",
       "      <td>American Eagle</td>\n",
       "      <td>04/2004</td>\n",
       "      <td>4</td>\n",
       "      <td>2004</td>\n",
       "      <td>8095</td>\n",
       "      <td>38982</td>\n",
       "      <td>755</td>\n",
       "      <td>1234451</td>\n",
       "    </tr>\n",
       "    <tr>\n",
       "      <th>4</th>\n",
       "      <td>American Eagle</td>\n",
       "      <td>05/2004</td>\n",
       "      <td>5</td>\n",
       "      <td>2004</td>\n",
       "      <td>10618</td>\n",
       "      <td>40422</td>\n",
       "      <td>2206</td>\n",
       "      <td>1267581</td>\n",
       "    </tr>\n",
       "    <tr>\n",
       "      <th>...</th>\n",
       "      <td>...</td>\n",
       "      <td>...</td>\n",
       "      <td>...</td>\n",
       "      <td>...</td>\n",
       "      <td>...</td>\n",
       "      <td>...</td>\n",
       "      <td>...</td>\n",
       "      <td>...</td>\n",
       "    </tr>\n",
       "    <tr>\n",
       "      <th>247</th>\n",
       "      <td>United</td>\n",
       "      <td>08/2010</td>\n",
       "      <td>8</td>\n",
       "      <td>2010</td>\n",
       "      <td>14099</td>\n",
       "      <td>30637</td>\n",
       "      <td>344</td>\n",
       "      <td>4263211</td>\n",
       "    </tr>\n",
       "    <tr>\n",
       "      <th>248</th>\n",
       "      <td>United</td>\n",
       "      <td>09/2010</td>\n",
       "      <td>9</td>\n",
       "      <td>2010</td>\n",
       "      <td>9435</td>\n",
       "      <td>28072</td>\n",
       "      <td>161</td>\n",
       "      <td>3679517</td>\n",
       "    </tr>\n",
       "    <tr>\n",
       "      <th>249</th>\n",
       "      <td>United</td>\n",
       "      <td>10/2010</td>\n",
       "      <td>10</td>\n",
       "      <td>2010</td>\n",
       "      <td>9565</td>\n",
       "      <td>29144</td>\n",
       "      <td>140</td>\n",
       "      <td>3952549</td>\n",
       "    </tr>\n",
       "    <tr>\n",
       "      <th>250</th>\n",
       "      <td>United</td>\n",
       "      <td>11/2010</td>\n",
       "      <td>11</td>\n",
       "      <td>2010</td>\n",
       "      <td>8597</td>\n",
       "      <td>27318</td>\n",
       "      <td>104</td>\n",
       "      <td>3573268</td>\n",
       "    </tr>\n",
       "    <tr>\n",
       "      <th>251</th>\n",
       "      <td>United</td>\n",
       "      <td>12/2010</td>\n",
       "      <td>12</td>\n",
       "      <td>2010</td>\n",
       "      <td>14415</td>\n",
       "      <td>27619</td>\n",
       "      <td>599</td>\n",
       "      <td>3493643</td>\n",
       "    </tr>\n",
       "  </tbody>\n",
       "</table>\n",
       "<p>252 rows × 8 columns</p>\n",
       "</div>"
      ],
      "text/plain": [
       "            Airline     Date  Month  Year  Baggage  Scheduled  Cancelled  \\\n",
       "0    American Eagle  01/2004      1  2004    12502      38276       2481   \n",
       "1    American Eagle  02/2004      2  2004     8977      35762        886   \n",
       "2    American Eagle  03/2004      3  2004    10289      39445       1346   \n",
       "3    American Eagle  04/2004      4  2004     8095      38982        755   \n",
       "4    American Eagle  05/2004      5  2004    10618      40422       2206   \n",
       "..              ...      ...    ...   ...      ...        ...        ...   \n",
       "247          United  08/2010      8  2010    14099      30637        344   \n",
       "248          United  09/2010      9  2010     9435      28072        161   \n",
       "249          United  10/2010     10  2010     9565      29144        140   \n",
       "250          United  11/2010     11  2010     8597      27318        104   \n",
       "251          United  12/2010     12  2010    14415      27619        599   \n",
       "\n",
       "     Enplaned  \n",
       "0      992360  \n",
       "1     1060618  \n",
       "2     1227469  \n",
       "3     1234451  \n",
       "4     1267581  \n",
       "..        ...  \n",
       "247   4263211  \n",
       "248   3679517  \n",
       "249   3952549  \n",
       "250   3573268  \n",
       "251   3493643  \n",
       "\n",
       "[252 rows x 8 columns]"
      ]
     },
     "execution_count": 8,
     "metadata": {},
     "output_type": "execute_result"
    }
   ],
   "source": [
    "df.drop_duplicates()"
   ]
  },
  {
   "cell_type": "markdown",
   "id": "3b37b45d",
   "metadata": {},
   "source": [
    "# Removing Duplicates"
   ]
  },
  {
   "cell_type": "code",
   "execution_count": 9,
   "id": "e67c2463",
   "metadata": {},
   "outputs": [
    {
     "data": {
      "text/plain": [
       "0      False\n",
       "1      False\n",
       "2      False\n",
       "3      False\n",
       "4      False\n",
       "       ...  \n",
       "247    False\n",
       "248    False\n",
       "249    False\n",
       "250    False\n",
       "251    False\n",
       "Length: 252, dtype: bool"
      ]
     },
     "execution_count": 9,
     "metadata": {},
     "output_type": "execute_result"
    }
   ],
   "source": [
    "df.duplicated()"
   ]
  },
  {
   "cell_type": "markdown",
   "id": "b7b22121",
   "metadata": {},
   "source": [
    "# Handling Outliers"
   ]
  },
  {
   "cell_type": "code",
   "execution_count": 10,
   "id": "0706fe1a",
   "metadata": {},
   "outputs": [],
   "source": [
    "import seaborn as sns"
   ]
  },
  {
   "cell_type": "code",
   "execution_count": 11,
   "id": "dca378f1",
   "metadata": {},
   "outputs": [
    {
     "name": "stderr",
     "output_type": "stream",
     "text": [
      "C:\\Users\\User\\anaconda3\\lib\\site-packages\\seaborn\\_decorators.py:36: FutureWarning: Pass the following variable as a keyword arg: x. From version 0.12, the only valid positional argument will be `data`, and passing other arguments without an explicit keyword will result in an error or misinterpretation.\n",
      "  warnings.warn(\n"
     ]
    },
    {
     "data": {
      "text/plain": [
       "<AxesSubplot:xlabel='Baggage'>"
      ]
     },
     "execution_count": 11,
     "metadata": {},
     "output_type": "execute_result"
    },
    {
     "data": {
      "image/png": "[encoded data removed]",
      "text/plain": [
       "<Figure size 432x288 with 1 Axes>"
      ]
     },
     "metadata": {
      "needs_background": "light"
     },
     "output_type": "display_data"
    }
   ],
   "source": [
    "sns.boxplot(df['Baggage'])"
   ]
  },
  {
   "cell_type": "markdown",
   "id": "59e93fce",
   "metadata": {},
   "source": [
    "# Model"
   ]
  },
  {
   "cell_type": "code",
   "execution_count": 12,
   "id": "baa2f7c7",
   "metadata": {},
   "outputs": [],
   "source": [
    "x=df.drop(columns='Baggage')"
   ]
  },
  {
   "cell_type": "code",
   "execution_count": 13,
   "id": "ac8a2fdf",
   "metadata": {},
   "outputs": [],
   "source": [
    "y=df['Baggage']"
   ]
  },
  {
   "cell_type": "code",
   "execution_count": 14,
   "id": "13847afd",
   "metadata": {},
   "outputs": [],
   "source": [
    "from sklearn.model_selection import train_test_split\n",
    "x_train,x_test,y_train,y_test=train_test_split(x,y,test_size=0.2)"
   ]
  },
  {
   "cell_type": "code",
   "execution_count": 15,
   "id": "ee9d963d",
   "metadata": {},
   "outputs": [],
   "source": [
    "from sklearn.linear_model import LinearRegression\n",
    "from sklearn.metrics import r2_score\n",
    "from sklearn.preprocessing import OneHotEncoder\n",
    "from sklearn.compose import make_column_transformer\n",
    "from sklearn.pipeline import make_pipeline"
   ]
  },
  {
   "cell_type": "code",
   "execution_count": 16,
   "id": "0b8e4481",
   "metadata": {},
   "outputs": [
    {
     "data": {
      "text/plain": [
       "OneHotEncoder()"
      ]
     },
     "execution_count": 16,
     "metadata": {},
     "output_type": "execute_result"
    }
   ],
   "source": [
    "ohe=OneHotEncoder()\n",
    "ohe.fit(x[['Airline','Date']])"
   ]
  },
  {
   "cell_type": "code",
   "execution_count": 17,
   "id": "ded4334d",
   "metadata": {},
   "outputs": [
    {
     "data": {
      "text/plain": [
       "[array(['American Eagle', 'Hawaiian', 'United'], dtype=object),\n",
       " array(['01/2004', '01/2005', '01/2006', '01/2007', '01/2008', '01/2009',\n",
       "        '01/2010', '02/2004', '02/2005', '02/2006', '02/2007', '02/2008',\n",
       "        '02/2009', '02/2010', '03/2004', '03/2005', '03/2006', '03/2007',\n",
       "        '03/2008', '03/2009', '03/2010', '04/2004', '04/2005', '04/2006',\n",
       "        '04/2007', '04/2008', '04/2009', '04/2010', '05/2004', '05/2005',\n",
       "        '05/2006', '05/2007', '05/2008', '05/2009', '05/2010', '06/2004',\n",
       "        '06/2005', '06/2006', '06/2007', '06/2008', '06/2009', '06/2010',\n",
       "        '07/2004', '07/2005', '07/2006', '07/2007', '07/2008', '07/2009',\n",
       "        '07/2010', '08/2004', '08/2005', '08/2006', '08/2007', '08/2008',\n",
       "        '08/2009', '08/2010', '09/2004', '09/2005', '09/2006', '09/2007',\n",
       "        '09/2008', '09/2009', '09/2010', '10/2004', '10/2005', '10/2006',\n",
       "        '10/2007', '10/2008', '10/2009', '10/2010', '11/2004', '11/2005',\n",
       "        '11/2006', '11/2007', '11/2008', '11/2009', '11/2010', '12/2004',\n",
       "        '12/2005', '12/2006', '12/2007', '12/2008', '12/2009', '12/2010'],\n",
       "       dtype=object)]"
      ]
     },
     "execution_count": 17,
     "metadata": {},
     "output_type": "execute_result"
    }
   ],
   "source": [
    "ohe.categories_"
   ]
  },
  {
   "cell_type": "code",
   "execution_count": 18,
   "id": "dcf08c00",
   "metadata": {},
   "outputs": [],
   "source": [
    "column_trans=make_column_transformer((OneHotEncoder(categories=ohe.categories_),['Airline','Date']),remainder='passthrough')"
   ]
  },
  {
   "cell_type": "code",
   "execution_count": 19,
   "id": "13fc91c5",
   "metadata": {},
   "outputs": [],
   "source": [
    "lr=LinearRegression()"
   ]
  },
  {
   "cell_type": "code",
   "execution_count": 20,
   "id": "289cb95d",
   "metadata": {},
   "outputs": [],
   "source": [
    "pipe=make_pipeline(column_trans,lr)"
   ]
  },
  {
   "cell_type": "code",
   "execution_count": 21,
   "id": "05ca0185",
   "metadata": {},
   "outputs": [
    {
     "data": {
      "text/plain": [
       "Pipeline(steps=[('columntransformer',\n",
       "                 ColumnTransformer(remainder='passthrough',\n",
       "                                   transformers=[('onehotencoder',\n",
       "                                                  OneHotEncoder(categories=[array(['American Eagle', 'Hawaiian', 'United'], dtype=object),\n",
       "                                                                            array(['01/2004', '01/2005', '01/2006', '01/2007', '01/2008', '01/2009',\n",
       "       '01/2010', '02/2004', '02/2005', '02/2006', '02/2007', '02/2008',\n",
       "       '02/2009', '02/2010', '03/2004'...\n",
       "       '08/2009', '08/2010', '09/2004', '09/2005', '09/2006', '09/2007',\n",
       "       '09/2008', '09/2009', '09/2010', '10/2004', '10/2005', '10/2006',\n",
       "       '10/2007', '10/2008', '10/2009', '10/2010', '11/2004', '11/2005',\n",
       "       '11/2006', '11/2007', '11/2008', '11/2009', '11/2010', '12/2004',\n",
       "       '12/2005', '12/2006', '12/2007', '12/2008', '12/2009', '12/2010'],\n",
       "      dtype=object)]),\n",
       "                                                  ['Airline', 'Date'])])),\n",
       "                ('linearregression', LinearRegression())])"
      ]
     },
     "execution_count": 21,
     "metadata": {},
     "output_type": "execute_result"
    }
   ],
   "source": [
    "pipe.fit(x_train,y_train)"
   ]
  },
  {
   "cell_type": "code",
   "execution_count": 22,
   "id": "50f412c2",
   "metadata": {},
   "outputs": [],
   "source": [
    "y_pred=pipe.predict(x_test)"
   ]
  },
  {
   "cell_type": "markdown",
   "id": "a085d5d8",
   "metadata": {},
   "source": [
    "##### r2_score(y_test,y_pred)"
   ]
  },
  {
   "cell_type": "code",
   "execution_count": 23,
   "id": "dd998af3",
   "metadata": {},
   "outputs": [],
   "source": [
    "scores=[]\n",
    "for i in range(1000):\n",
    "    x_train,x_test,y_train,y_test=train_test_split(x,y,test_size=0.2,random_state=i)\n",
    "    lr=LinearRegression()\n",
    "    pipe=make_pipeline(column_trans,lr)\n",
    "    pipe.fit(x_train,y_train)\n",
    "    y_pred=pipe.predict(x_test)\n",
    "    scores.append(r2_score(y_test,y_pred))"
   ]
  },
  {
   "cell_type": "code",
   "execution_count": 24,
   "id": "22b6e44b",
   "metadata": {},
   "outputs": [
    {
     "data": {
      "text/plain": [
       "820"
      ]
     },
     "execution_count": 24,
     "metadata": {},
     "output_type": "execute_result"
    }
   ],
   "source": [
    "np.argmax(scores)"
   ]
  },
  {
   "cell_type": "code",
   "execution_count": 25,
   "id": "050dc4fd",
   "metadata": {},
   "outputs": [
    {
     "data": {
      "text/plain": [
       "0.9307088381878998"
      ]
     },
     "execution_count": 25,
     "metadata": {},
     "output_type": "execute_result"
    }
   ],
   "source": [
    "scores[np.argmax(scores)]"
   ]
  },
  {
   "cell_type": "code",
   "execution_count": 26,
   "id": "f5db2a99",
   "metadata": {},
   "outputs": [
    {
     "data": {
      "text/plain": [
       "0.8642789510931942"
      ]
     },
     "execution_count": 26,
     "metadata": {},
     "output_type": "execute_result"
    }
   ],
   "source": [
    "x_train,x_test,y_train,y_test=train_test_split(x,y,test_size=0.2,random_state=i)\n",
    "lr=LinearRegression()\n",
    "pipe=make_pipeline(column_trans,lr)\n",
    "pipe.fit(x_train,y_train)\n",
    "y_pred=pipe.predict(x_test)\n",
    "r2_score(y_test,y_pred)"
   ]
  },
  {
   "cell_type": "code",
   "execution_count": 27,
   "id": "bff93ed1",
   "metadata": {},
   "outputs": [],
   "source": [
    "import pickle"
   ]
  },
  {
   "cell_type": "code",
   "execution_count": 28,
   "id": "381740cc",
   "metadata": {},
   "outputs": [],
   "source": [
    "pickle.dump(pipe,open('LinearRegression.pkl','wb'))"
   ]
  },
  {
   "cell_type": "code",
   "execution_count": 29,
   "id": "94e750e8",
   "metadata": {},
   "outputs": [
    {
     "data": {
      "text/html": [
       "<div>\n",
       "<style scoped>\n",
       "    .dataframe tbody tr th:only-of-type {\n",
       "        vertical-align: middle;\n",
       "    }\n",
       "\n",
       "    .dataframe tbody tr th {\n",
       "        vertical-align: top;\n",
       "    }\n",
       "\n",
       "    .dataframe thead th {\n",
       "        text-align: right;\n",
       "    }\n",
       "</style>\n",
       "<table border=\"1\" class=\"dataframe\">\n",
       "  <thead>\n",
       "    <tr style=\"text-align: right;\">\n",
       "      <th></th>\n",
       "      <th>Airline</th>\n",
       "      <th>Date</th>\n",
       "      <th>Month</th>\n",
       "      <th>Year</th>\n",
       "      <th>Baggage</th>\n",
       "      <th>Scheduled</th>\n",
       "      <th>Cancelled</th>\n",
       "      <th>Enplaned</th>\n",
       "    </tr>\n",
       "  </thead>\n",
       "  <tbody>\n",
       "    <tr>\n",
       "      <th>0</th>\n",
       "      <td>American Eagle</td>\n",
       "      <td>01/2004</td>\n",
       "      <td>1</td>\n",
       "      <td>2004</td>\n",
       "      <td>12502</td>\n",
       "      <td>38276</td>\n",
       "      <td>2481</td>\n",
       "      <td>992360</td>\n",
       "    </tr>\n",
       "    <tr>\n",
       "      <th>1</th>\n",
       "      <td>American Eagle</td>\n",
       "      <td>02/2004</td>\n",
       "      <td>2</td>\n",
       "      <td>2004</td>\n",
       "      <td>8977</td>\n",
       "      <td>35762</td>\n",
       "      <td>886</td>\n",
       "      <td>1060618</td>\n",
       "    </tr>\n",
       "    <tr>\n",
       "      <th>2</th>\n",
       "      <td>American Eagle</td>\n",
       "      <td>03/2004</td>\n",
       "      <td>3</td>\n",
       "      <td>2004</td>\n",
       "      <td>10289</td>\n",
       "      <td>39445</td>\n",
       "      <td>1346</td>\n",
       "      <td>1227469</td>\n",
       "    </tr>\n",
       "    <tr>\n",
       "      <th>3</th>\n",
       "      <td>American Eagle</td>\n",
       "      <td>04/2004</td>\n",
       "      <td>4</td>\n",
       "      <td>2004</td>\n",
       "      <td>8095</td>\n",
       "      <td>38982</td>\n",
       "      <td>755</td>\n",
       "      <td>1234451</td>\n",
       "    </tr>\n",
       "    <tr>\n",
       "      <th>4</th>\n",
       "      <td>American Eagle</td>\n",
       "      <td>05/2004</td>\n",
       "      <td>5</td>\n",
       "      <td>2004</td>\n",
       "      <td>10618</td>\n",
       "      <td>40422</td>\n",
       "      <td>2206</td>\n",
       "      <td>1267581</td>\n",
       "    </tr>\n",
       "  </tbody>\n",
       "</table>\n",
       "</div>"
      ],
      "text/plain": [
       "          Airline     Date  Month  Year  Baggage  Scheduled  Cancelled  \\\n",
       "0  American Eagle  01/2004      1  2004    12502      38276       2481   \n",
       "1  American Eagle  02/2004      2  2004     8977      35762        886   \n",
       "2  American Eagle  03/2004      3  2004    10289      39445       1346   \n",
       "3  American Eagle  04/2004      4  2004     8095      38982        755   \n",
       "4  American Eagle  05/2004      5  2004    10618      40422       2206   \n",
       "\n",
       "   Enplaned  \n",
       "0    992360  \n",
       "1   1060618  \n",
       "2   1227469  \n",
       "3   1234451  \n",
       "4   1267581  "
      ]
     },
     "execution_count": 29,
     "metadata": {},
     "output_type": "execute_result"
    }
   ],
   "source": [
    "df.head()"
   ]
  },
  {
   "cell_type": "code",
   "execution_count": 30,
   "id": "f3a35b78",
   "metadata": {},
   "outputs": [
    {
     "data": {
      "text/plain": [
       "array([17035.19575545])"
      ]
     },
     "execution_count": 30,
     "metadata": {},
     "output_type": "execute_result"
    }
   ],
   "source": [
    "pipe.predict(pd.DataFrame([['American Eagle','01/2004',1,2004,38276,2481,992360]],columns=['Airline','Date','Month','Year','Scheduled','Cancelled','Enplaned']))"
   ]
  },
  {
   "cell_type": "code",
   "execution_count": 31,
   "id": "2603f559",
   "metadata": {},
   "outputs": [
    {
     "data": {
      "text/plain": [
       "array([10242.51367746])"
      ]
     },
     "execution_count": 31,
     "metadata": {},
     "output_type": "execute_result"
    }
   ],
   "source": [
    "pipe.predict(pd.DataFrame([['American Eagle','01/2004',1,2004,35762,886,1060618]],columns=['Airline','Date','Month','Year','Scheduled','Cancelled','Enplaned']))"
   ]
  },
  {
   "cell_type": "code",
   "execution_count": null,
   "id": "283fea2c",
   "metadata": {},
   "outputs": [],
   "source": []
  }
 ],
 "metadata": {
  "kernelspec": {
   "display_name": "Python 3 (ipykernel)",
   "language": "python",
   "name": "python3"
  },
  "language_info": {
   "codemirror_mode": {
    "name": "ipython",
    "version": 3
   },
   "file_extension": ".py",
   "mimetype": "text/x-python",
   "name": "python",
   "nbconvert_exporter": "python",
   "pygments_lexer": "ipython3",
   "version": "3.9.7"
  }
 },
 "nbformat": 4,
 "nbformat_minor": 5
}
